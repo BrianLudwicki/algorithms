{
 "cells": [
  {
   "cell_type": "code",
   "execution_count": 7,
   "metadata": {},
   "outputs": [],
   "source": [
    "import math\n",
    "import matplotlib.pyplot as plt\n",
    "import random"
   ]
  },
  {
   "cell_type": "code",
   "execution_count": 8,
   "metadata": {},
   "outputs": [
    {
     "name": "stdout",
     "output_type": "stream",
     "text": [
      "[1, 2, 3, 4, 5, 6, 7, 8, 9, 10, 11, 12, 13, 14, 15, 16, 17, 18, 19, 20]\n"
     ]
    }
   ],
   "source": [
    "arr = list(range(1, 21))\n",
    "print(arr)"
   ]
  },
  {
   "cell_type": "code",
   "execution_count": 9,
   "metadata": {},
   "outputs": [
    {
     "name": "stdout",
     "output_type": "stream",
     "text": [
      "16\n"
     ]
    }
   ],
   "source": [
    "target = random.choice(arr)\n",
    "print(target)"
   ]
  },
  {
   "cell_type": "code",
   "execution_count": 12,
   "metadata": {},
   "outputs": [
    {
     "name": "stdout",
     "output_type": "stream",
     "text": [
      "Element found at index 15\n"
     ]
    }
   ],
   "source": [
    "def binary_search(arr, target):\n",
    "    \"\"\"\n",
    "    Perform a binary search to find the index of 'target' in a sorted list 'arr'.\n",
    "\n",
    "    :param arr: A sorted list of elements.\n",
    "    :param target: The element to search for.\n",
    "    :return: The index of 'target' in 'arr' if found, otherwise -1.\n",
    "    \"\"\"\n",
    "\n",
    "    # Define the starting and ending indices of the search area\n",
    "    left, right = 0, len(arr) - 1\n",
    "\n",
    "    # Continue the loop as long as the left index is less than or equal to the right index\n",
    "    while left <= right:\n",
    "        # Calculate the middle index\n",
    "        mid = (left + right) // 2\n",
    "\n",
    "        # Check if the middle element is the target\n",
    "        if arr[mid] == target:\n",
    "            return mid  # Target found, return its index\n",
    "\n",
    "        # If the target is smaller than the middle element, it can only be in the left subarray\n",
    "        elif arr[mid] > target:\n",
    "            right = mid - 1\n",
    "\n",
    "        # If the target is larger than the middle element, it can only be in the right subarray\n",
    "        else:\n",
    "            left = mid + 1\n",
    "\n",
    "    # Target is not present in the array\n",
    "    return -1\n",
    "\n",
    "result = binary_search(arr, target)\n",
    "\n",
    "if result != -1:\n",
    "    print(f\"Element found at index {result}\")\n",
    "else:\n",
    "    print(\"Element not found in the array\")\n"
   ]
  },
  {
   "cell_type": "code",
   "execution_count": 11,
   "metadata": {},
   "outputs": [
    {
     "data": {
      "text/plain": [
       "3"
      ]
     },
     "execution_count": 11,
     "metadata": {},
     "output_type": "execute_result"
    }
   ],
   "source": [
    "binary_search(numbers, random_integer)"
   ]
  }
 ],
 "metadata": {
  "kernelspec": {
   "display_name": "Python 3",
   "language": "python",
   "name": "python3"
  },
  "language_info": {
   "codemirror_mode": {
    "name": "ipython",
    "version": 3
   },
   "file_extension": ".py",
   "mimetype": "text/x-python",
   "name": "python",
   "nbconvert_exporter": "python",
   "pygments_lexer": "ipython3",
   "version": "3.11.4"
  }
 },
 "nbformat": 4,
 "nbformat_minor": 2
}
